{
 "cells": [
  {
   "cell_type": "code",
   "execution_count": null,
   "metadata": {},
   "outputs": [],
   "source": [
    "# Regular Expression\n",
    "1. A regular expression is a string which contains:-\n",
    "    - Special Symbol\n",
    "    - Characters to find and\n",
    "    - extract the information needed by us from the given data.\n",
    "\n",
    "2. Regular Expression helps us:-\n",
    "    - to search \n",
    "    - to match\n",
    "    - to find and\n",
    "    - to split information as per our requirements.\n",
    "    \n",
    "3. It is also called regex.\n",
    "\n",
    "4. Python provides 're' module which stands for regular expression.\n",
    "\n",
    "5. This module contains methods like:-\n",
    "    - compile()\n",
    "    - search()\n",
    "    - match()\n",
    "    - findall()\n",
    "    - split() etc.\n",
    "    \n",
    "5. You need to import 're' module if you want to use these methods for above mentioned operations.\n",
    "\n",
    "6. A simple regular expression should be written as a raw string because:-\n",
    "    - if we will use normal string then escape sequence like '\\n' will be treated as new line.\n",
    "    - But this is not our requirement. Any escape sequence may have a different meaning in regex.\n",
    "    - You may use normal string but in that case you have to use extra back slash. But it is not recommended.\n",
    "\n",
    "7. A regular expression looks like as r'm\\w\\w'. Let's interpret it:-\n",
    "    - 'r' says that regex should be raw string.\n",
    "    - 'm' says that the word or string we are looking for should start with m.\n",
    "    - '\\w' says that after 'm' we may have any alphanumeric character after m.\n",
    "    - The word or string we are looking for has length 3.\n",
    "    \n",
    "8. The basic operations we can do on a regular expression and corresponding method are:-\n",
    "    - Matching string - re.match(regex, str)\n",
    "    - Searching for string - re.search(regex, str)\n",
    "    - Finding all string - re.findall(regex, str)\n",
    "    - Splitting a string into pieces - re.split(regex, str)\n",
    "    - Replacing a string - re.sub(regex, new_string, str)\n",
    "    \n",
    "9. There are two ways of writing regular expression:-\n",
    "    1. With compilation:-\n",
    "        - import re\n",
    "        - comp = re.compile(r'r\\w\\w') #Compilation of regex\n",
    "        - str = 'cat mat bat rat'     #String\n",
    "        - res = comp.search(str)      #searching string using search method\n",
    "        - print(res.group())          #displaying result using group method on searched object.\n",
    "        \n",
    "    2. Without compilation:-\n",
    "        - import re\n",
    "        - str = 'cat mat bat rat'\n",
    "        - res = re.search(r'r\\w\\w', str)\n",
    "        - print(res.group())\n",
    "        \n",
    "10. The method used in regular expression are:-\n",
    "    1. Matching string - re.match(regex, str)\n",
    "        - Does the search in the begining of the string.\n",
    "        - If it is found then returns an object with resultant string.\n",
    "        - If it is not found then it returns None.\n",
    "        - We need to use group() method to access the string from returned object.\n",
    "        Example:-\n",
    "        - import re\n",
    "        - str = 'cat mat bat rat'\n",
    "        - res = re.match(r'c\\w\\w', str)\n",
    "        - print(res.group())\n",
    "        \n",
    "    2. Searching for string - re.search(regex, str):-\n",
    "        - Does the search from the begining to the end of the string.\n",
    "        - And returns first occurence of matching string.\n",
    "        - If it is not found then it returns None.\n",
    "        - We need to use group() method to access the string from returned object.\n",
    "        Exampple:-\n",
    "        - import re\n",
    "        - str = 'cat mat bat rat'\n",
    "        - res = re.search(r'r\\w\\w', str)\n",
    "        - print(res.group())\n",
    "        \n",
    "        \n",
    "    3. Finding all string - re.findall(regex, str):-\n",
    "        - Does the search from the begining to the end of the string.\n",
    "        - And returns all occurences of matching string in the form of a list object.\n",
    "        - If it is not found then it returns empty list.\n",
    "        - We need to run the for loop to access the string from returned list object.\n",
    "        Example:-\n",
    "        - import re\n",
    "        - str = 'cat mat bat ratman'\n",
    "        - res = re.findall(r'\\bm\\w\\w\\b', str)\n",
    "        - print(res.group())\n",
    "        \n",
    "    4. Splitting a string into pieces - re.split(regex, str):-\n",
    "        - It splits the string according to the regular expression.\n",
    "        - It returns the resultant pieces as a list.\n",
    "        - If there are no resultant pieces then it returns an empty list.\n",
    "        - We need to run the for loop to access the string from returned list object.\n",
    "        \n",
    "    5. Replacing a string - re.sub(regex, new_string, str):-\n",
    "        - The sub() method substitutes existing string with new string.\n",
    "        - It returns the main string after substitution.\n",
    "        \n",
    "11. Sequence characters in regular expression:-\n",
    "    1. \\d - any digit from 0 to 9\n",
    "    2. \\D - any non-digit\n",
    "    3. \\s - white space e.g.:- \\t,\\n,\\r,\\v,\\f\n",
    "    4. \\S - non white space character\n",
    "    5. \\w - any alphanumeric character e.g.:- (A to Z, a to z, 0 to 9)\n",
    "    6. \\W - any non alphanumeric character\n",
    "    7. \\b - represents a space around words\n",
    "    8. \\A - matches only at the start of the string\n",
    "    9. \\Z - matches only at the end of the string\n",
    "    \n",
    "12. Characters represents more than one character to be matched in the string is called Quantifiers.\n",
    "    1. + - represents 1 or more repetitions of the preceding regex exp\n",
    "    2. * - 0 or more repetitions of the preceding regex exp\n",
    "    3. ? - 0 or 1 repetitions of the preceding regex exp\n",
    "    4. {m} - exactly m occurences\n",
    "    5. {m,n} - from m to n. m defaults to 0 n to infinity.\n",
    "    \n",
    "13. Special Characters in regex:-\n",
    "    1. \\ - Escape special character\n",
    "    2. . - matches any character except new line\n",
    "    3. ^ - matches begining of the string\n",
    "    4. $ - matches ending of a string\n",
    "    5. [...] - Denotes set of possible charcaters. e.g. [6p-t]matches any characters from 6,p,q,r,s or t.\n",
    "    6. [^...] - Matches every characters except the ones inside brackets. e.g [^6p-t]matches every characters\n",
    "    except 6,p,q,r,s or t.\n",
    "    7. (...) - Matches the regular expression inside the parenthesisand the result can be captured.\n",
    "    8. R|S - Matches the regex either R or S."
   ]
  },
  {
   "cell_type": "code",
   "execution_count": 61,
   "metadata": {},
   "outputs": [
    {
     "name": "stdout",
     "output_type": "stream",
     "text": [
      "['i9']\n"
     ]
    }
   ],
   "source": [
    "# Regular Expression without compilation\n",
    "\n",
    "import re\n",
    "s = 'id This is Python class in Learnbay i9 jnbjk'\n",
    "reg = r'i\\d'\n",
    "print(re.findall(reg,s))\n",
    "#print(re.search(reg, s).group())"
   ]
  },
  {
   "cell_type": "code",
   "execution_count": 55,
   "metadata": {},
   "outputs": [
    {
     "name": "stdout",
     "output_type": "stream",
     "text": [
      "None\n"
     ]
    }
   ],
   "source": [
    "print(re.match(reg,s))"
   ]
  },
  {
   "cell_type": "code",
   "execution_count": 56,
   "metadata": {},
   "outputs": [
    {
     "name": "stdout",
     "output_type": "stream",
     "text": [
      "['i9']\n"
     ]
    }
   ],
   "source": []
  },
  {
   "cell_type": "code",
   "execution_count": null,
   "metadata": {},
   "outputs": [],
   "source": [
    "# Regular expression with compilation"
   ]
  },
  {
   "cell_type": "code",
   "execution_count": 14,
   "metadata": {},
   "outputs": [
    {
     "name": "stdout",
     "output_type": "stream",
     "text": [
      "This is \n",
      " Python class\n"
     ]
    }
   ],
   "source": [
    "# a = 'This is \\n Python class'\n",
    "# print(a)"
   ]
  },
  {
   "cell_type": "code",
   "execution_count": 15,
   "metadata": {},
   "outputs": [
    {
     "name": "stdout",
     "output_type": "stream",
     "text": [
      "This is \\n Python class\n"
     ]
    }
   ],
   "source": [
    "# b = r'This is \\n Python class'\n",
    "# print(b)"
   ]
  },
  {
   "cell_type": "code",
   "execution_count": 42,
   "metadata": {},
   "outputs": [
    {
     "name": "stdout",
     "output_type": "stream",
     "text": [
      "['mat', 'man', 'm98', 'm9n', 'make', 'manmade', 'manhattan', 'm9']\n",
      "cat Nan bat rat Nan Nan Nan Nan Nan Nan Nan m\n"
     ]
    }
   ],
   "source": [
    "import re\n",
    "s = 'cat mat bat rat man m98 m9n make manmade manhattan m9 m' \n",
    "reg = r'm\\w+'\n",
    "# print(re.match(reg,s).group())\n",
    "# print(re.search(reg,s).group())\n",
    "print(re.findall(reg,s))\n",
    "# print(re.split(reg,s))\n",
    "print(re.sub(reg, 'Nan', s))"
   ]
  },
  {
   "cell_type": "code",
   "execution_count": 43,
   "metadata": {},
   "outputs": [
    {
     "name": "stdout",
     "output_type": "stream",
     "text": [
      "['mat', 'man', 'm98', 'm9n', 'make', 'manmade', 'manhattan', 'm9', 'm']\n",
      "cat Nan bat rat Nan Nan Nan Nan Nan Nan Nan Nan\n"
     ]
    }
   ],
   "source": [
    "import re\n",
    "s = 'cat mat bat rat man m98 m9n make manmade manhattan m9 m' \n",
    "reg = r'm\\w*'\n",
    "# print(re.match(reg,s).group())\n",
    "# print(re.search(reg,s).group())\n",
    "print(re.findall(reg,s))\n",
    "# print(re.split(reg,s))\n",
    "print(re.sub(reg, 'Nan', s))"
   ]
  },
  {
   "cell_type": "code",
   "execution_count": 44,
   "metadata": {},
   "outputs": [
    {
     "name": "stdout",
     "output_type": "stream",
     "text": [
      "['ma', 'ma', 'm9', 'm9', 'ma', 'ma', 'ma', 'ma', 'm9', 'm']\n",
      "cat Nant bat rat Nann Nan8 Nann Nanke NannNande Nannhattan Nan Nan\n"
     ]
    }
   ],
   "source": [
    "import re\n",
    "s = 'cat mat bat rat man m98 m9n make manmade manhattan m9 m' \n",
    "reg = r'm\\w?'\n",
    "# print(re.match(reg,s).group())\n",
    "# print(re.search(reg,s).group())\n",
    "print(re.findall(reg,s))\n",
    "# print(re.split(reg,s))\n",
    "print(re.sub(reg, 'Nan', s))"
   ]
  },
  {
   "cell_type": "code",
   "execution_count": 45,
   "metadata": {},
   "outputs": [
    {
     "name": "stdout",
     "output_type": "stream",
     "text": [
      "['peter', 'giper']\n"
     ]
    }
   ],
   "source": [
    "str = \"peter giper picked a peck of pickled peppers\"\n",
    "print(re.findall(r'\\b\\w{5}\\b',str))"
   ]
  },
  {
   "cell_type": "code",
   "execution_count": 49,
   "metadata": {},
   "outputs": [
    {
     "name": "stdout",
     "output_type": "stream",
     "text": [
      "['peter', 'giper', 'peck']\n"
     ]
    }
   ],
   "source": [
    "str = \"peter giper picked a peck of pickled peppers\"\n",
    "print(re.findall(r'\\b\\w{4,5}\\b',str))"
   ]
  },
  {
   "cell_type": "code",
   "execution_count": 25,
   "metadata": {},
   "outputs": [
    {
     "name": "stdout",
     "output_type": "stream",
     "text": [
      "['chgvhjhghhjg']\n"
     ]
    }
   ],
   "source": [
    "import re\n",
    "str = 'at mat bat rat chgvhjhghhjg'\n",
    "reg = r'c\\w\\Z'\n",
    "#print(re.match(reg,str).group())\n",
    "print(re.findall(r'c\\w+',str))"
   ]
  },
  {
   "cell_type": "code",
   "execution_count": 51,
   "metadata": {},
   "outputs": [
    {
     "name": "stdout",
     "output_type": "stream",
     "text": [
      "['Python', 's', 'Programming', '', 'is', 'very', 'easy', 'to', 'learn']\n"
     ]
    }
   ],
   "source": [
    "import re\n",
    "str = \"Python's Programming: is very easy to learn\"\n",
    "reg = r'\\W'\n",
    "print(re.split(reg, str))"
   ]
  },
  {
   "cell_type": "code",
   "execution_count": 52,
   "metadata": {},
   "outputs": [
    {
     "name": "stdout",
     "output_type": "stream",
     "text": [
      "['8th', '11th']\n"
     ]
    }
   ],
   "source": [
    "import re\n",
    "str = 'The election in delhi will be held on 8th and result for the same will be declared on 11th'\n",
    "reg = r'\\d[\\w]+'\n",
    "print(re.findall(reg, str))"
   ]
  },
  {
   "cell_type": "code",
   "execution_count": 61,
   "metadata": {},
   "outputs": [
    {
     "name": "stdout",
     "output_type": "stream",
     "text": [
      "second operand can not be zero\n",
      "100\n",
      "0\n"
     ]
    }
   ],
   "source": [
    "# Exception Handling\n",
    "# Compile time error - Syntactical \n",
    "# Run time error - Apart from syntactical error\n",
    "\n",
    "# a = 100\n",
    "# b = 0\n",
    "# try:\n",
    "#     print(a/b)\n",
    "# except ZeroDivisionError:\n",
    "#     print('second operand can not be zero')\n",
    "# print(a)\n",
    "# print(b)"
   ]
  },
  {
   "cell_type": "code",
   "execution_count": 68,
   "metadata": {},
   "outputs": [
    {
     "ename": "SyntaxError",
     "evalue": "default 'except:' must be last (<ipython-input-68-f0f872cff399>, line 8)",
     "output_type": "error",
     "traceback": [
      "\u001b[0;36m  File \u001b[0;32m\"<ipython-input-68-f0f872cff399>\"\u001b[0;36m, line \u001b[0;32m8\u001b[0m\n\u001b[0;31m    print('Some unknown error has happened')\u001b[0m\n\u001b[0m                   ^\u001b[0m\n\u001b[0;31mSyntaxError\u001b[0m\u001b[0;31m:\u001b[0m default 'except:' must be last\n"
     ]
    }
   ],
   "source": [
    "# a = 100\n",
    "# b = '9'\n",
    "# # flag = 0\n",
    "# try:\n",
    "#     print(a/b)\n",
    "# #     flag = 1\n",
    "# except ZeroDivisionError:\n",
    "#     print('second operand can not be zero')\n",
    "# except OverflowError:\n",
    "#     print('Memory is full')\n",
    "# except ArithmeticError:\n",
    "#     print('Some Arithmetic Error happened')\n",
    "# except:\n",
    "#     print('Some unknown error has happened')\n",
    "# print(a)\n",
    "# print(b)\n",
    "# if flag == 1:\n",
    "    "
   ]
  },
  {
   "cell_type": "code",
   "execution_count": 72,
   "metadata": {},
   "outputs": [
    {
     "name": "stdout",
     "output_type": "stream",
     "text": [
      "Enetr oly integer value\n",
      "100\n",
      "9\n"
     ]
    }
   ],
   "source": [
    "# a = 100\n",
    "# b = '9'\n",
    "\n",
    "# try:\n",
    "#     print(a/b)\n",
    "#     try:\n",
    "#         print(a)\n",
    "#     except:\n",
    "#         print()\n",
    "# except ZeroDivisionError:\n",
    "#     print('second operand can not be zero')\n",
    "# except OverflowError:\n",
    "#     print('Memory is full')\n",
    "# except ArithmeticError:\n",
    "#     print('Some Arithmetic Error happened')\n",
    "# except TypeError:\n",
    "#     print('Enetr oly integer value')\n",
    "# except:\n",
    "#     print('Some unknown error has happened')\n",
    "# print(a)\n",
    "# print(b)"
   ]
  },
  {
   "cell_type": "code",
   "execution_count": 70,
   "metadata": {},
   "outputs": [
    {
     "name": "stdout",
     "output_type": "stream",
     "text": [
      "5.0\n",
      "0.2\n",
      "deleting a and b\n",
      "Deleted\n"
     ]
    }
   ],
   "source": [
    "# a = 100\n",
    "# b = 20\n",
    "# try:\n",
    "#     print(a/b)\n",
    "#     try:\n",
    "#         print(b/a)\n",
    "#     except:\n",
    "#         print('Not possible')\n",
    "\n",
    "# except ZeroDivisionError:\n",
    "#     print('Hey! Division by zero is not possible')\n",
    "# except:\n",
    "#     print('Default Exception occured')\n",
    "# finally:\n",
    "#     print('deleting a and b')\n",
    "#     del a\n",
    "#     del b\n",
    "#     print('Deleted')"
   ]
  },
  {
   "cell_type": "code",
   "execution_count": null,
   "metadata": {},
   "outputs": [],
   "source": [
    "# class large_amount_exception(Exception):\n",
    "#     def __init__(self, msg):\n",
    "#         self.msg = msg\n",
    "\n",
    "# withdraw_amt = int(input('Enter an amount you want to withdraw: '))\n",
    "# if withdraw_amt>49999:\n",
    "#     raise large_amount_exception('It is quite large amount to withdraw')\n",
    "# else:\n",
    "#     print('You may withdraw this amount')"
   ]
  },
  {
   "cell_type": "code",
   "execution_count": 71,
   "metadata": {},
   "outputs": [
    {
     "ename": "TypeError",
     "evalue": "unsupported operand type(s) for /: 'int' and 'str'",
     "output_type": "error",
     "traceback": [
      "\u001b[0;31m---------------------------------------------------------------------------\u001b[0m",
      "\u001b[0;31mTypeError\u001b[0m                                 Traceback (most recent call last)",
      "\u001b[0;32m<ipython-input-71-3199658ae2c5>\u001b[0m in \u001b[0;36m<module>\u001b[0;34m\u001b[0m\n\u001b[0;32m----> 1\u001b[0;31m \u001b[0;36m100\u001b[0m\u001b[0;34m/\u001b[0m\u001b[0;34m'9'\u001b[0m\u001b[0;34m\u001b[0m\u001b[0;34m\u001b[0m\u001b[0m\n\u001b[0m",
      "\u001b[0;31mTypeError\u001b[0m: unsupported operand type(s) for /: 'int' and 'str'"
     ]
    }
   ],
   "source": [
    "100/'9'"
   ]
  },
  {
   "cell_type": "code",
   "execution_count": 76,
   "metadata": {},
   "outputs": [],
   "source": [
    "# # Generator is a seq - a kind of function\n",
    "# t = (i for i in range(10000000000000000000000000000000000000000000000000000000))\n",
    "# for i in t:\n",
    "#     print(i)"
   ]
  },
  {
   "cell_type": "code",
   "execution_count": null,
   "metadata": {},
   "outputs": [],
   "source": [
    "# t = [i for i in range(10000000000000000000000000000000000000000000000000000000)]\n",
    "# for i in t:\n",
    "#     print(i)"
   ]
  },
  {
   "cell_type": "code",
   "execution_count": null,
   "metadata": {},
   "outputs": [],
   "source": [
    "# t = [i for i in range(10000000000000000000000000000000000000000000000000000000)]\n",
    "# for i in t:\n",
    "#     print(i)"
   ]
  },
  {
   "cell_type": "code",
   "execution_count": 6,
   "metadata": {},
   "outputs": [
    {
     "name": "stdout",
     "output_type": "stream",
     "text": [
      "12\n",
      "8\n",
      "20\n",
      "100\n",
      "5.0\n",
      "5\n"
     ]
    }
   ],
   "source": [
    "def my_generator(a,b):\n",
    "    add = a+b\n",
    "    sub = a-b\n",
    "    mul = a*b\n",
    "    expo = a**b\n",
    "    flt_div = a/b\n",
    "    flr_div = a//b\n",
    "    yield add\n",
    "    yield sub\n",
    "    yield mul\n",
    "    yield expo\n",
    "    yield flt_div\n",
    "    yield flr_div\n",
    "    \n",
    "# g = my_generator(10,2)\n",
    "# print(next(g))\n",
    "# print(next(g))\n",
    "# print(next(g))\n",
    "# print(next(g))\n",
    "# print(next(g))\n",
    "# print(next(g))\n",
    "# print(next(g))\n",
    "# for i in g:\n",
    "#     print(i)"
   ]
  },
  {
   "cell_type": "code",
   "execution_count": 7,
   "metadata": {},
   "outputs": [],
   "source": [
    "# lst = []\n",
    "# print(dir(lst))"
   ]
  },
  {
   "cell_type": "code",
   "execution_count": 8,
   "metadata": {},
   "outputs": [
    {
     "data": {
      "text/plain": [
       "range"
      ]
     },
     "execution_count": 8,
     "metadata": {},
     "output_type": "execute_result"
    }
   ],
   "source": [
    "type(range(10))"
   ]
  },
  {
   "cell_type": "code",
   "execution_count": null,
   "metadata": {},
   "outputs": [],
   "source": [
    "# Create a generator which will be equivalent to following\n",
    "# range(10)\n",
    "# range(10,22)\n",
    "# range(1,10,2)\n",
    "# range(10,-10)"
   ]
  }
 ],
 "metadata": {
  "kernelspec": {
   "display_name": "Python 3",
   "language": "python",
   "name": "python3"
  },
  "language_info": {
   "codemirror_mode": {
    "name": "ipython",
    "version": 3
   },
   "file_extension": ".py",
   "mimetype": "text/x-python",
   "name": "python",
   "nbconvert_exporter": "python",
   "pygments_lexer": "ipython3",
   "version": "3.7.6"
  }
 },
 "nbformat": 4,
 "nbformat_minor": 2
}
